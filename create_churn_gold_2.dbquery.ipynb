{
 "cells": [
  {
   "cell_type": "code",
   "execution_count": 0,
   "metadata": {
    "application/vnd.databricks.v1+cell": {
     "cellMetadata": {
      "byteLimit": 10485760,
      "rowLimit": 64000
     },
     "inputWidgets": {},
     "nuid": "bea44cd4-a15d-4229-84e9-9acb78f87d17",
     "showTitle": false,
     "tableResultSettingsMap": {},
     "title": ""
    }
   },
   "outputs": [],
   "source": [
    "CREATE OR REPLACE TABLE main.ogden_dbsql_hands_on_workshop.churn_sentiment_gold AS\n",
    "SELECT \n",
    "    cust_num,\n",
    "    DMA,\n",
    "    geo_demog_desc,\n",
    "    text_string,\n",
    "    ai_analyze_sentiment(text_string) AS sentiment_text,\n",
    "    case when sentiment_text = 'positive' then 1\n",
    "         when sentiment_text = 'neutral' then 0.5\n",
    "         when sentiment_text = 'negative' then -1\n",
    "         else 0 end as sentiment_score\n",
    "FROM \n",
    "    main.ogden_dbsql_hands_on_workshop.churn_silver\n",
    "--LIMIT 50\n",
    ";\n",
    "--SELECT * FROM main.ogden_dbsql_hands_on_workshop.churn_sentiment_gold;"
   ]
  }
 ],
 "metadata": {
  "application/vnd.databricks.v1+notebook": {
   "computePreferences": null,
   "dashboards": [],
   "environmentMetadata": null,
   "inputWidgetPreferences": null,
   "language": "sql",
   "notebookMetadata": {
    "pythonIndentUnit": 2,
    "sqlQueryOptions": {
     "applyAutoLimit": false,
     "catalog": "hive_metastore",
     "schema": "00_mwalker_test"
    }
   },
   "notebookName": "create_churn_gold_2.dbquery.ipynb",
   "widgets": {}
  },
  "language_info": {
   "name": "sql"
  }
 },
 "nbformat": 4,
 "nbformat_minor": 0
}
