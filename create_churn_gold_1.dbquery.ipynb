{
 "cells": [
  {
   "cell_type": "code",
   "execution_count": 0,
   "metadata": {
    "application/vnd.databricks.v1+cell": {
     "cellMetadata": {
      "byteLimit": 10485760,
      "rowLimit": 1000
     },
     "inputWidgets": {},
     "nuid": "def3d815-d407-4d77-bbe0-783a115fb7f0",
     "showTitle": false,
     "tableResultSettingsMap": {},
     "title": ""
    }
   },
   "outputs": [],
   "source": [
    "CREATE OR REPLACE TABLE main.ogden_dbsql_hands_on_workshop.churn_DMA_stats_gold AS\n",
    "SELECT \n",
    "    DMA,\n",
    "    AVG(tenure_months) AS avg_tenure,\n",
    "    AVG(vol_disco_ind) AS avg_churn_rate,\n",
    "    COUNT(cust_num) AS customer_count\n",
    "FROM \n",
    "    main.ogden_dbsql_hands_on_workshop.churn_silver\n",
    "GROUP BY \n",
    "    DMA\n",
    ";\n",
    "--SELECT * FROM main.ogden_dbsql_hands_on_workshop.churn_DMA_stats_gold;"
   ]
  }
 ],
 "metadata": {
  "application/vnd.databricks.v1+notebook": {
   "computePreferences": null,
   "dashboards": [],
   "environmentMetadata": null,
   "inputWidgetPreferences": null,
   "language": "sql",
   "notebookMetadata": {
    "pythonIndentUnit": 2,
    "sqlQueryOptions": {
     "applyAutoLimit": true,
     "catalog": "main",
     "schema": "ogden_dbsql_hands_on_workshop"
    }
   },
   "notebookName": "create_churn_gold_1.dbquery.ipynb",
   "widgets": {}
  },
  "language_info": {
   "name": "sql"
  }
 },
 "nbformat": 4,
 "nbformat_minor": 0
}
